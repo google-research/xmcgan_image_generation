from google.colab import drive
drive.mount('/content/drive')
%cd drive/My Drive/Colab Notebooks/CSCI_677_HW5

run src/xmcgan/main.py
