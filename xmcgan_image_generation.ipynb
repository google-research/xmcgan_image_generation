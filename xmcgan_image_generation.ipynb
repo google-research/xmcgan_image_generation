run src/xmcgan/main.py 
'''-c config/config.py --exp_name "2d_slice_mean" -r result/2d_slice_mean --device "cuda" --wandb.watch False --model.arch.file src/arch/brain_age_slice_lstm.py --model.arch.attn_dim 32 --model.arch.attn_num_heads 1 --model.arch.attn_drop 1 --model.arch.agg_fn "attention"'''
